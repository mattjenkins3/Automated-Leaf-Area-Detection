{
 "cells": [
  {
   "cell_type": "markdown",
   "metadata": {},
   "source": [
    "## Automated Extraction of Leaf Area from Photos\n",
    "\n",
    "##### Take photos of leaves with any camera*, populate a folder, and quickly extract leaf data\n",
    "\n",
    "*on white background of known dimensions\n",
    "\n",
    "To answer some important plant biology, horticultural or agronomic research questions it can be important to accurately measure the area of many leaves. This labor intensive process has previously limited the size of datasets used in publications, and a faster solution would vastly improve the size and quality of these datasets.\n",
    "\n",
    "The following code represents a fast, reliable and simple framework for rapidly extracting leaf area from large numbers of images captured with a camera.\n",
    "\n",
    "Make sure you set the name of the __image directory__ correctly, and assign the __background__ with the correct size, using desired units.\n",
    "\n",
    "In the final cell, you may set a __destination directory__ and __filename__ for exporting .csv file of all leaf area data."
   ]
  },
  {
   "cell_type": "code",
   "execution_count": 1,
   "metadata": {},
   "outputs": [],
   "source": [
    "# import packages\n",
    "import os\n",
    "import cv2\n",
    "import skimage\n",
    "import pandas as pd\n",
    "import imutils\n",
    "from imutils.perspective import four_point_transform\n",
    "from PIL import Image"
   ]
  },
  {
   "cell_type": "code",
   "execution_count": 2,
   "metadata": {},
   "outputs": [],
   "source": [
    "# define function for getting list of image files in user provided directory\n",
    "def getListOfFiles(dirName):\n",
    "    # create a list of file and sub directories names in the given directory \n",
    "    listOfFile = os.listdir(dirName)\n",
    "    allFiles = list()\n",
    "    # Iterate over all the entries\n",
    "    for entry in listOfFile:\n",
    "        # Create full path\n",
    "        fullPath = os.path.join(dirName, entry)\n",
    "        # If entry is a directory then get the list of files in this directory \n",
    "        if os.path.isdir(fullPath):\n",
    "            allFiles = allFiles + getListOfFiles(fullPath)\n",
    "        else:\n",
    "            allFiles.append(fullPath)\n",
    "    return allFiles"
   ]
  },
  {
   "cell_type": "markdown",
   "metadata": {},
   "source": [
    "### Set some variables\n",
    "\n",
    "1) Edit the __folder name__ and __paper size__ to appropriate values.\n",
    "\n",
    "2) Set paper or white background size using any units you prefer."
   ]
  },
  {
   "cell_type": "code",
   "execution_count": 9,
   "metadata": {},
   "outputs": [],
   "source": [
    "# set folder name (including path from this jupyter notebook)\n",
    "folder = \"photos\" # (edit as needed)\n",
    "\n",
    "# set paper or white background size\n",
    "paper_size = 0.06032246 # Standard USA Letter paper, m^2 (edit as needed)\n",
    "\n",
    "# build list of image files (do not edit)\n",
    "file_list = getListOfFiles(folder)\n",
    "if 'photos/.DS_Store' in file_list:\n",
    "    file_list.remove('photos/.DS_Store')"
   ]
  },
  {
   "cell_type": "markdown",
   "metadata": {},
   "source": [
    "### Loop over all the photos in folder\n",
    "\n",
    "Extract leaf area from each image, then add file name, date of capture and leaf area to a dataframe."
   ]
  },
  {
   "cell_type": "code",
   "execution_count": 10,
   "metadata": {},
   "outputs": [],
   "source": [
    "# reset counter\n",
    "z = 0\n",
    "\n",
    "# loop over all images in the list of image files\n",
    "while z < len(file_list):\n",
    "\n",
    "    # load the image\n",
    "    image = cv2.imread(file_list[z])\n",
    "\n",
    "    # resize image\n",
    "    image = imutils.resize(image, height = 1000)\n",
    "\n",
    "    # convert resized image to grayscale, blur it slightly, then find edges\n",
    "    gray = cv2.cvtColor(image, cv2.COLOR_BGR2GRAY)\n",
    "    blurred = cv2.GaussianBlur(gray, (5, 5), 0)\n",
    "    edged = cv2.Canny(blurred, 75, 200)\n",
    "    \n",
    "    # apply Otsu's thresholding method to create a binarized version\n",
    "    thresh = cv2.threshold(gray, 0, 255, cv2.THRESH_BINARY_INV | cv2.THRESH_OTSU)[1]\n",
    "    \n",
    "    # find contours in the edge map, keeping only the largest ones\n",
    "    cnts = cv2.findContours(edged.copy(), cv2.RETR_LIST, cv2.CHAIN_APPROX_SIMPLE)\n",
    "    cnts = imutils.grab_contours(cnts)\n",
    "    cnts = sorted(cnts, key = cv2.contourArea, reverse = True)[:5]\n",
    "\n",
    "    # loop over the contours\n",
    "    for c in cnts:\n",
    "        peri = cv2.arcLength(c, True)\n",
    "        approx = cv2.approxPolyDP(c, 0.02 * peri, True) # approximate the contour\n",
    "        if len(approx) == 4: # if approx contour has four points, then assume that we found paper\n",
    "            screenCnt = approx\n",
    "            break\n",
    "            \n",
    "    # apply the four point transform to obtain a top-down view of the paper area only         \n",
    "    warped = four_point_transform(thresh, screenCnt.reshape(4, 2))  \n",
    "\n",
    "    # extract leaf area\n",
    "    n_white = cv2.countNonZero(warped)\n",
    "    height, width = warped.shape\n",
    "    n_total = height * width\n",
    "    leaf_area = (n_white / n_total) * paper_size\n",
    "\n",
    "    # extract creation time from image metadata\n",
    "    imageName = file_list[z]\n",
    "    creation_time = Image.open(imageName)._getexif()[36867]\n",
    "\n",
    "    if z == 0:\n",
    "\n",
    "        # Create the pandas DataFrame\n",
    "        dict = {'File Name':[],'Date Time':[],'Leaf Area':[]}\n",
    "        df = pd.DataFrame(dict)\n",
    "        \n",
    "        z += 1\n",
    "\n",
    "    else:\n",
    "        # append onto existing results\n",
    "        dict = {'File Name': [imageName[7:20]],'Date Time': [creation_time[:19]], 'Leaf Area': [leaf_area]}\n",
    "        new_row = pd.DataFrame(dict)\n",
    "        df = pd.concat([new_row, df], ignore_index = True)\n",
    "\n",
    "        z += 1"
   ]
  },
  {
   "cell_type": "markdown",
   "metadata": {},
   "source": [
    "### Print the dataframe to visually check results"
   ]
  },
  {
   "cell_type": "code",
   "execution_count": 11,
   "metadata": {},
   "outputs": [
    {
     "data": {
      "text/html": [
       "<div>\n",
       "<style scoped>\n",
       "    .dataframe tbody tr th:only-of-type {\n",
       "        vertical-align: middle;\n",
       "    }\n",
       "\n",
       "    .dataframe tbody tr th {\n",
       "        vertical-align: top;\n",
       "    }\n",
       "\n",
       "    .dataframe thead th {\n",
       "        text-align: right;\n",
       "    }\n",
       "</style>\n",
       "<table border=\"1\" class=\"dataframe\">\n",
       "  <thead>\n",
       "    <tr style=\"text-align: right;\">\n",
       "      <th></th>\n",
       "      <th>File Name</th>\n",
       "      <th>Date Time</th>\n",
       "      <th>Leaf Area</th>\n",
       "    </tr>\n",
       "  </thead>\n",
       "  <tbody>\n",
       "    <tr>\n",
       "      <th>0</th>\n",
       "      <td>IMG_0671.jpeg</td>\n",
       "      <td>2023:05:25 09:08:05</td>\n",
       "      <td>0.002756</td>\n",
       "    </tr>\n",
       "    <tr>\n",
       "      <th>1</th>\n",
       "      <td>IMG_0667.jpeg</td>\n",
       "      <td>2023:05:25 09:04:48</td>\n",
       "      <td>0.000456</td>\n",
       "    </tr>\n",
       "    <tr>\n",
       "      <th>2</th>\n",
       "      <td>IMG_0666.jpeg</td>\n",
       "      <td>2023:05:25 09:04:25</td>\n",
       "      <td>0.004903</td>\n",
       "    </tr>\n",
       "    <tr>\n",
       "      <th>3</th>\n",
       "      <td>IMG_0670.jpeg</td>\n",
       "      <td>2023:05:25 09:07:25</td>\n",
       "      <td>0.001588</td>\n",
       "    </tr>\n",
       "    <tr>\n",
       "      <th>4</th>\n",
       "      <td>IMG_0677.jpeg</td>\n",
       "      <td>2023:05:25 09:09:03</td>\n",
       "      <td>0.000894</td>\n",
       "    </tr>\n",
       "    <tr>\n",
       "      <th>5</th>\n",
       "      <td>IMG_0676.jpeg</td>\n",
       "      <td>2023:05:25 09:08:56</td>\n",
       "      <td>0.002177</td>\n",
       "    </tr>\n",
       "    <tr>\n",
       "      <th>6</th>\n",
       "      <td>IMG_0675.jpeg</td>\n",
       "      <td>2023:05:25 09:08:49</td>\n",
       "      <td>0.002216</td>\n",
       "    </tr>\n",
       "    <tr>\n",
       "      <th>7</th>\n",
       "      <td>IMG_0674.jpeg</td>\n",
       "      <td>2023:05:25 09:08:39</td>\n",
       "      <td>0.002071</td>\n",
       "    </tr>\n",
       "    <tr>\n",
       "      <th>8</th>\n",
       "      <td>IMG_0673.jpeg</td>\n",
       "      <td>2023:05:25 09:08:26</td>\n",
       "      <td>0.003269</td>\n",
       "    </tr>\n",
       "    <tr>\n",
       "      <th>9</th>\n",
       "      <td>IMG_0669.jpeg</td>\n",
       "      <td>2023:05:25 09:06:50</td>\n",
       "      <td>0.003128</td>\n",
       "    </tr>\n",
       "    <tr>\n",
       "      <th>10</th>\n",
       "      <td>IMG_0668.jpeg</td>\n",
       "      <td>2023:05:25 09:06:35</td>\n",
       "      <td>0.000868</td>\n",
       "    </tr>\n",
       "  </tbody>\n",
       "</table>\n",
       "</div>"
      ],
      "text/plain": [
       "        File Name            Date Time  Leaf Area\n",
       "0   IMG_0671.jpeg  2023:05:25 09:08:05   0.002756\n",
       "1   IMG_0667.jpeg  2023:05:25 09:04:48   0.000456\n",
       "2   IMG_0666.jpeg  2023:05:25 09:04:25   0.004903\n",
       "3   IMG_0670.jpeg  2023:05:25 09:07:25   0.001588\n",
       "4   IMG_0677.jpeg  2023:05:25 09:09:03   0.000894\n",
       "5   IMG_0676.jpeg  2023:05:25 09:08:56   0.002177\n",
       "6   IMG_0675.jpeg  2023:05:25 09:08:49   0.002216\n",
       "7   IMG_0674.jpeg  2023:05:25 09:08:39   0.002071\n",
       "8   IMG_0673.jpeg  2023:05:25 09:08:26   0.003269\n",
       "9   IMG_0669.jpeg  2023:05:25 09:06:50   0.003128\n",
       "10  IMG_0668.jpeg  2023:05:25 09:06:35   0.000868"
      ]
     },
     "metadata": {},
     "output_type": "display_data"
    }
   ],
   "source": [
    "display(df)"
   ]
  },
  {
   "cell_type": "markdown",
   "metadata": {},
   "source": [
    "## Save the dataframe"
   ]
  },
  {
   "cell_type": "code",
   "execution_count": 12,
   "metadata": {},
   "outputs": [],
   "source": [
    "# set folder\n",
    "folder = 'results/' # 'results/' folder is provided, but set any relative path desired\n",
    "\n",
    "# set filename\n",
    "filename = 'name.csv'\n",
    "\n",
    "# save file\n",
    "df.to_csv(folder + filename)"
   ]
  },
  {
   "cell_type": "markdown",
   "metadata": {},
   "source": [
    "**Authors:**\n",
    "Matthew Jenkins, \n",
    "Dylan Lenczewski-Jowers, \n",
    "Fabiola Chavez Lamas"
   ]
  }
 ],
 "metadata": {
  "kernelspec": {
   "display_name": "Python 3 (ipykernel)",
   "language": "python",
   "name": "python3"
  },
  "language_info": {
   "codemirror_mode": {
    "name": "ipython",
    "version": 3
   },
   "file_extension": ".py",
   "mimetype": "text/x-python",
   "name": "python",
   "nbconvert_exporter": "python",
   "pygments_lexer": "ipython3",
   "version": "3.9.13"
  }
 },
 "nbformat": 4,
 "nbformat_minor": 2
}
